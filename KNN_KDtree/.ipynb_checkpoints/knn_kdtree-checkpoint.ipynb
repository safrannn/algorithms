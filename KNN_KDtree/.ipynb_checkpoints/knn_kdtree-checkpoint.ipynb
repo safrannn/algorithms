{
 "cells": [
  {
   "cell_type": "code",
   "execution_count": 7,
   "metadata": {},
   "outputs": [],
   "source": [
    "import scipy.spatial as spatial\n",
    "import numpy as np\n",
    "import timeit\n",
    "import matplotlib.pyplot as plt"
   ]
  },
  {
   "cell_type": "markdown",
   "metadata": {},
   "source": [
    "## 2D k-Nearest Neighbout Search with kd-trees"
   ]
  },
  {
   "cell_type": "code",
   "execution_count": 8,
   "metadata": {},
   "outputs": [],
   "source": [
    "S = np.random.randint(50, size=(30, 2))\n",
    "tree = spatial.KDTree(S)"
   ]
  },
  {
   "cell_type": "markdown",
   "metadata": {},
   "source": [
    "### Query the kd-tree for k nearest neighbors "
   ]
  },
  {
   "cell_type": "code",
   "execution_count": 12,
   "metadata": {},
   "outputs": [
    {
     "name": "stdout",
     "output_type": "stream",
     "text": [
      "location of the point: [25,16]\n",
      "neighbor        location      distance\n",
      "point0          [24,11]        [5.099]\n",
      "point1          [18,17]        [7.071]\n",
      "point2          [19, 9]        [9.220]\n",
      "---------------------------------------\n",
      "location of the point: [14,4]\n",
      "neighbor        location      distance\n",
      "point0          [20, 2]        [6.325]\n",
      "point1          [19, 9]        [7.071]\n",
      "point2          [ 9,12]        [9.434]\n",
      "---------------------------------------\n",
      "location of the point: [38,46]\n",
      "neighbor        location      distance\n",
      "point0          [39,45]        [1.414]\n",
      "point1          [35,39]        [7.616]\n",
      "point2          [32,41]        [7.810]\n",
      "---------------------------------------\n",
      "location of the point: [20,49]\n",
      "neighbor        location      distance\n",
      "point0          [20,44]        [5.000]\n",
      "point1          [16,44]        [6.403]\n",
      "point2          [28,49]        [8.000]\n",
      "---------------------------------------\n",
      "location of the point: [49,44]\n",
      "neighbor        location      distance\n",
      "point0          [39,45]        [10.050]\n",
      "point1          [48,34]        [10.050]\n",
      "point2          [35,39]        [14.866]\n",
      "---------------------------------------\n"
     ]
    }
   ],
   "source": [
    "k = 3\n",
    "target_count = 5\n",
    "target_points = np.random.randint(50, size=(target_count, 2))\n",
    "\n",
    "def knn_search(k_value, target_points):\n",
    "    result = tree.query(target_points, k = k_value)\n",
    "    result_distance = result[0]\n",
    "    result_locations = result[1]\n",
    "\n",
    "    for index in range(len(target_points)):\n",
    "        print \"location of the point: [%d,%d]\"%(target_points[index][0],target_points[index][1])\n",
    "\n",
    "        neighbor_distances = result_distance[index]\n",
    "        neighbor_locations = result_locations[index]\n",
    "\n",
    "        print \"neighbor        location      distance\"\n",
    "        for kth_neighbor in range(k_value):\n",
    "            kth_neighbor_location = tree.data[neighbor_locations[kth_neighbor]]\n",
    "            kth_neighbor_distance = neighbor_distances[kth_neighbor]\n",
    "            print \"point%d          [%2d,%2d]        [%.3f]\" % (kth_neighbor,kth_neighbor_location[0],kth_neighbor_location[1],kth_neighbor_distance)\n",
    "\n",
    "        print \"---------------------------------------\"\n",
    "knn_search(k,target_points)"
   ]
  },
  {
   "cell_type": "markdown",
   "metadata": {},
   "source": [
    "### Time complexity find the k nearest neighbor for a 2D point in kd tree is around log(N) for each point, worst case O(N) for maximum backtracking and traverse"
   ]
  },
  {
   "cell_type": "code",
   "execution_count": 40,
   "metadata": {},
   "outputs": [
    {
     "data": {
      "image/png": "[encoded data removed]",
      "text/plain": [
       "<Figure size 432x288 with 1 Axes>"
      ]
     },
     "metadata": {
      "needs_background": "light"
     },
     "output_type": "display_data"
    }
   ],
   "source": [
    "k = 1\n",
    "target_count = range(1,501,25)\n",
    "\n",
    "def knn_search_target(k_value, target_points):\n",
    "    tree.query(target_points, k = k_value)\n",
    "\n",
    "def wrapper(func, *args, **kwargs):\n",
    "    def wrapped():\n",
    "        return func(*args, **kwargs)\n",
    "    return wrapped\n",
    "running_time = []\n",
    "\n",
    "for target in target_count:\n",
    "    target_points = np.random.randint(50, size=(target, 2))\n",
    "    knn_search_target_wrapped = wrapper(knn_search_target, k, target_points)\n",
    "    average = []\n",
    "    \n",
    "    for i in range(3):\n",
    "        average.append(timeit.timeit(knn_search_target_wrapped, number=1000))\n",
    "        \n",
    "    time = sum(average)/len(average)\n",
    "    running_time.append(time)\n",
    "    \n",
    "plt.plot(target_count, running_time)\n",
    "plt.title(\"2D knn search in kd tree, k = 1\")\n",
    "plt.ylabel(\"running time\")\n",
    "plt.xlabel(\"number of points for knn\")\n",
    "plt.show()"
   ]
  },
  {
   "cell_type": "code",
   "execution_count": null,
   "metadata": {},
   "outputs": [],
   "source": [
    "k = 1\n",
    "target_count = range(1,5001,100)\n",
    "\n",
    "def knn_search_target(k_value, target_points):\n",
    "    tree.query(target_points, k = k_value)\n",
    "\n",
    "def wrapper(func, *args, **kwargs):\n",
    "    def wrapped():\n",
    "        return func(*args, **kwargs)\n",
    "    return wrapped\n",
    "running_time = []\n",
    "\n",
    "for target in target_count:\n",
    "    target_points = np.random.randint(50, size=(target, 2))\n",
    "    knn_search_target_wrapped = wrapper(knn_search_target, k, target_points)\n",
    "    average = []\n",
    "    \n",
    "    for i in range(3):\n",
    "        average.append(timeit.timeit(knn_search_target_wrapped, number=1000))\n",
    "        \n",
    "    time = sum(average)/len(average)\n",
    "    running_time.append(time)\n",
    "    \n",
    "plt.plot(target_count, running_time)\n",
    "plt.title(\"2D knn search in kd tree, k = 1\")\n",
    "plt.ylabel(\"running time\")\n",
    "plt.xlabel(\"number of points for knn\")\n",
    "plt.show()"
   ]
  },
  {
   "cell_type": "markdown",
   "metadata": {},
   "source": [
    "### Find all points within distance r of point(s) "
   ]
  },
  {
   "cell_type": "code",
   "execution_count": 125,
   "metadata": {},
   "outputs": [
    {
     "name": "stdout",
     "output_type": "stream",
     "text": [
      "for each target point neighbors within distance of 10\n",
      "location of the point: [6,31]\n",
      "location of neighbors with in distance r: \n",
      "[[16 31]\n",
      " [12 26]]\n",
      "---------------------------------------\n",
      "location of the point: [19,9]\n",
      "location of neighbors with in distance r: \n",
      "[[18 18]\n",
      " [24 12]\n",
      " [21 15]\n",
      " [23 14]\n",
      " [24  7]\n",
      " [15 15]\n",
      " [22 14]]\n",
      "---------------------------------------\n",
      "location of the point: [26,19]\n",
      "location of neighbors with in distance r: \n",
      "[[18 18]\n",
      " [24 12]\n",
      " [21 15]\n",
      " [23 14]\n",
      " [22 14]\n",
      " [28 19]\n",
      " [20 26]]\n",
      "---------------------------------------\n",
      "location of the point: [46,24]\n",
      "location of neighbors with in distance r: \n",
      "[[40 17]]\n",
      "---------------------------------------\n",
      "location of the point: [47,3]\n",
      "location of neighbors with in distance r: \n",
      "[[38  5]\n",
      " [40  4]]\n",
      "---------------------------------------\n"
     ]
    }
   ],
   "source": [
    "def range_search(target_points, target_distance):\n",
    "    result = tree.query_ball_point(x = target_points, r = target_distance)\n",
    "\n",
    "    print \"for each target point neighbors within distance of %d\"%(target_distance)\n",
    "    for index in range(len(target_points)):\n",
    "        print \"location of the point: [%d,%d]\"%(target_points[index][0],target_points[index][1])\n",
    "        print \"location of neighbors with in distance r: \"\n",
    "        print tree.data[result[index]]\n",
    "        print \"---------------------------------------\"\n",
    "        \n",
    "target_distance = 10\n",
    "range_search(target_points,target_distance)"
   ]
  },
  {
   "cell_type": "markdown",
   "metadata": {},
   "source": [
    "## ND k-Nearest Neighbout Search with kd-trees"
   ]
  },
  {
   "cell_type": "code",
   "execution_count": 27,
   "metadata": {},
   "outputs": [],
   "source": [
    "dimensions = range(2,16)\n",
    "\n",
    "def wrapper(func, *args, **kwargs):\n",
    "    def wrapped():\n",
    "        return func(*args, **kwargs)\n",
    "    return wrapped"
   ]
  },
  {
   "cell_type": "code",
   "execution_count": 33,
   "metadata": {},
   "outputs": [],
   "source": [
    "k = 1\n",
    "target_count = 10\n",
    "running_time_knn = []\n",
    "\n",
    "def knn_search_nd(S, target_points, k_value):\n",
    "    tree = spatial.KDTree(S)\n",
    "    result = tree.query(target_points, k = k_value)\n",
    "\n",
    "dimensions = range(2,1003,50)\n",
    "for dimension in dimensions:\n",
    "    S = np.random.randint(100, size=(50, dimension))\n",
    "    target_points = np.random.randint(100, size=(target_count, dimension))\n",
    "    \n",
    "    knn_search_nd_wrapped = wrapper(knn_search_nd, S, target_points, k)\n",
    "    average = []\n",
    "    \n",
    "    for i in range(4):\n",
    "        average.append(timeit.timeit(knn_search_nd_wrapped, number=1000))\n",
    "        \n",
    "    time = sum(average)/len(average)\n",
    "    running_time_knn.append(time)\n"
   ]
  },
  {
   "cell_type": "code",
   "execution_count": 34,
   "metadata": {},
   "outputs": [
    {
     "data": {
      "image/png": "[encoded data removed]",
      "text/plain": [
       "<Figure size 432x288 with 1 Axes>"
      ]
     },
     "metadata": {
      "needs_background": "light"
     },
     "output_type": "display_data"
    }
   ],
   "source": [
    "plt.plot(dimensions, running_time_knn)\n",
    "plt.title(\"nD knn search with kd tree\")\n",
    "plt.ylabel(\"running time\")\n",
    "plt.xlabel(\"dimension\")\n",
    "plt.show()"
   ]
  },
  {
   "cell_type": "code",
   "execution_count": 44,
   "metadata": {},
   "outputs": [],
   "source": [
    "def range_search_nd(S, target_points, target_distance):\n",
    "    tree = spatial.KDTree(S)\n",
    "    result = tree.query_ball_point(x = target_points, r = target_distance)\n",
    "    \n",
    "target_count = 10\n",
    "target_distance = 30\n",
    "running_time_range = []\n",
    "\n",
    "dimensions = range(2,1003,100)\n",
    "for dimension in dimensions:\n",
    "    S = np.random.randint(100, size=(50, dimension))\n",
    "    target_points = np.random.randint(100, size=(target_count, dimension))\n",
    "    \n",
    "    range_search_nd_wrapped = wrapper(range_search_nd, S, target_points, target_distance)\n",
    "    average = []\n",
    "    \n",
    "    for i in range(4):\n",
    "        average.append(timeit.timeit(range_search_nd_wrapped, number=1000))\n",
    "    \n",
    "    time = sum(average)/len(average)\n",
    "    running_time_range.append(time)\n"
   ]
  },
  {
   "cell_type": "code",
   "execution_count": 45,
   "metadata": {},
   "outputs": [
    {
     "data": {
      "image/png": "[encoded data removed]",
      "text/plain": [
       "<Figure size 432x288 with 1 Axes>"
      ]
     },
     "metadata": {
      "needs_background": "light"
     },
     "output_type": "display_data"
    }
   ],
   "source": [
    "plt.plot(dimensions, running_time_range)\n",
    "plt.title(\"nD range search with kd tree\")\n",
    "plt.ylabel(\"running time\")\n",
    "plt.xlabel(\"dimension\")\n",
    "plt.show()"
   ]
  },
  {
   "cell_type": "code",
   "execution_count": null,
   "metadata": {},
   "outputs": [],
   "source": []
  }
 ],
 "metadata": {
  "kernelspec": {
   "display_name": "Python 2",
   "language": "python",
   "name": "python2"
  },
  "language_info": {
   "codemirror_mode": {
    "name": "ipython",
    "version": 2
   },
   "file_extension": ".py",
   "mimetype": "text/x-python",
   "name": "python",
   "nbconvert_exporter": "python",
   "pygments_lexer": "ipython2",
   "version": "2.7.16"
  }
 },
 "nbformat": 4,
 "nbformat_minor": 2
}
