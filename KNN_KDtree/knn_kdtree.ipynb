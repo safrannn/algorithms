{
 "cells": [
  {
   "cell_type": "code",
   "execution_count": 156,
   "metadata": {},
   "outputs": [],
   "source": [
    "import scipy.spatial as spatial\n",
    "import numpy as np\n",
    "import timeit\n",
    "import matplotlib.pyplot as plt"
   ]
  },
  {
   "cell_type": "markdown",
   "metadata": {},
   "source": [
    "## 2D k-Nearest Neighbout Search with kd-trees"
   ]
  },
  {
   "cell_type": "code",
   "execution_count": 114,
   "metadata": {},
   "outputs": [
    {
     "data": {
      "text/plain": [
       "array([[40, 17],\n",
       "       [ 3,  0],\n",
       "       [49, 43],\n",
       "       [18, 18],\n",
       "       [27, 45],\n",
       "       [22, 42],\n",
       "       [39, 11],\n",
       "       [24, 12],\n",
       "       [16, 31],\n",
       "       [42, 45],\n",
       "       [11, 22],\n",
       "       [21, 15],\n",
       "       [23, 14],\n",
       "       [24,  7],\n",
       "       [ 9, 49],\n",
       "       [34, 48],\n",
       "       [12, 26],\n",
       "       [ 5, 47],\n",
       "       [15, 15],\n",
       "       [26, 43],\n",
       "       [ 1,  2],\n",
       "       [33, 34],\n",
       "       [36, 46],\n",
       "       [20, 26],\n",
       "       [38,  5],\n",
       "       [40, 40],\n",
       "       [22, 14],\n",
       "       [40,  4],\n",
       "       [22, 43],\n",
       "       [28, 19]])"
      ]
     },
     "execution_count": 114,
     "metadata": {},
     "output_type": "execute_result"
    }
   ],
   "source": [
    "S = np.random.randint(50, size=(30, 2))\n",
    "tree = spatial.KDTree(S)\n",
    "tree.data"
   ]
  },
  {
   "cell_type": "markdown",
   "metadata": {},
   "source": [
    "### Query the kd-tree for k nearest neighbors "
   ]
  },
  {
   "cell_type": "code",
   "execution_count": 120,
   "metadata": {},
   "outputs": [
    {
     "name": "stdout",
     "output_type": "stream",
     "text": [
      "location of the point: [6,31]\n",
      "neighbor        location      distance\n",
      "point0          [12,26]        [7.810]\n",
      "point1          [16,31]        [10.000]\n",
      "point2          [11,22]        [10.296]\n",
      "---------------------------------------\n",
      "location of the point: [19,9]\n",
      "neighbor        location      distance\n",
      "point0          [24, 7]        [5.385]\n",
      "point1          [24,12]        [5.831]\n",
      "point2          [22,14]        [5.831]\n",
      "---------------------------------------\n",
      "location of the point: [26,19]\n",
      "neighbor        location      distance\n",
      "point0          [28,19]        [2.000]\n",
      "point1          [23,14]        [5.831]\n",
      "point2          [21,15]        [6.403]\n",
      "---------------------------------------\n",
      "location of the point: [46,24]\n",
      "neighbor        location      distance\n",
      "point0          [40,17]        [9.220]\n",
      "point1          [39,11]        [14.765]\n",
      "point2          [33,34]        [16.401]\n",
      "---------------------------------------\n",
      "location of the point: [47,3]\n",
      "neighbor        location      distance\n",
      "point0          [40, 4]        [7.071]\n",
      "point1          [38, 5]        [9.220]\n",
      "point2          [39,11]        [11.314]\n",
      "---------------------------------------\n"
     ]
    }
   ],
   "source": [
    "k = 3\n",
    "target_count = 5\n",
    "target_points = np.random.randint(50, size=(target_count, 2))\n",
    "\n",
    "\n",
    "def knn_search(k_value, target_points):\n",
    "    result = tree.query(target_points, k = k_value)\n",
    "    result_distance = result[0]\n",
    "    result_locations = result[1]\n",
    "\n",
    "    for index in range(len(target_points)):\n",
    "        print \"location of the point: [%d,%d]\"%(target_points[index][0],target_points[index][1])\n",
    "\n",
    "        neighbor_distances = result_distance[index]\n",
    "        neighbor_locations = result_locations[index]\n",
    "\n",
    "        print \"neighbor        location      distance\"\n",
    "        for kth_neighbor in range(k_value):\n",
    "            kth_neighbor_location = tree.data[neighbor_locations[kth_neighbor]]\n",
    "            kth_neighbor_distance = neighbor_distances[kth_neighbor]\n",
    "            print \"point%d          [%2d,%2d]        [%.3f]\" % (kth_neighbor,kth_neighbor_location[0],kth_neighbor_location[1],kth_neighbor_distance)\n",
    "\n",
    "        print \"---------------------------------------\"\n",
    "knn_search(k,target_points)"
   ]
  },
  {
   "cell_type": "markdown",
   "metadata": {},
   "source": [
    "### Find all points within distance r of point(s) "
   ]
  },
  {
   "cell_type": "code",
   "execution_count": 125,
   "metadata": {},
   "outputs": [
    {
     "name": "stdout",
     "output_type": "stream",
     "text": [
      "for each target point neighbors within distance of 10\n",
      "location of the point: [6,31]\n",
      "location of neighbors with in distance r: \n",
      "[[16 31]\n",
      " [12 26]]\n",
      "---------------------------------------\n",
      "location of the point: [19,9]\n",
      "location of neighbors with in distance r: \n",
      "[[18 18]\n",
      " [24 12]\n",
      " [21 15]\n",
      " [23 14]\n",
      " [24  7]\n",
      " [15 15]\n",
      " [22 14]]\n",
      "---------------------------------------\n",
      "location of the point: [26,19]\n",
      "location of neighbors with in distance r: \n",
      "[[18 18]\n",
      " [24 12]\n",
      " [21 15]\n",
      " [23 14]\n",
      " [22 14]\n",
      " [28 19]\n",
      " [20 26]]\n",
      "---------------------------------------\n",
      "location of the point: [46,24]\n",
      "location of neighbors with in distance r: \n",
      "[[40 17]]\n",
      "---------------------------------------\n",
      "location of the point: [47,3]\n",
      "location of neighbors with in distance r: \n",
      "[[38  5]\n",
      " [40  4]]\n",
      "---------------------------------------\n"
     ]
    }
   ],
   "source": [
    "def range_search(target_points, target_distance):\n",
    "    result = tree.query_ball_point(x = target_points, r = target_distance)\n",
    "\n",
    "    print \"for each target point neighbors within distance of %d\"%(target_distance)\n",
    "    for index in range(len(target_points)):\n",
    "        print \"location of the point: [%d,%d]\"%(target_points[index][0],target_points[index][1])\n",
    "        print \"location of neighbors with in distance r: \"\n",
    "        print tree.data[result[index]]\n",
    "        print \"---------------------------------------\"\n",
    "        \n",
    "target_distance = 10\n",
    "range_search(target_points,target_distance)"
   ]
  },
  {
   "cell_type": "markdown",
   "metadata": {},
   "source": [
    "## ND k-Nearest Neighbout Search with kd-trees"
   ]
  },
  {
   "cell_type": "code",
   "execution_count": 193,
   "metadata": {},
   "outputs": [],
   "source": [
    "dimensions = range(2,16)\n",
    "\n",
    "def wrapper(func, *args, **kwargs):\n",
    "    def wrapped():\n",
    "        return func(*args, **kwargs)\n",
    "    return wrapped"
   ]
  },
  {
   "cell_type": "code",
   "execution_count": 194,
   "metadata": {},
   "outputs": [],
   "source": [
    "k = 5\n",
    "target_count = 20\n",
    "running_time_knn = []\n",
    "\n",
    "def knn_search_nd(S, target_points, k_value):\n",
    "    tree = spatial.KDTree(S)\n",
    "    result = tree.query(target_points, k = k_value)\n",
    "\n",
    "for dimension in dimensions:\n",
    "    S = np.random.randint(100, size=(50, dimension))\n",
    "    target_points = np.random.randint(100, size=(target_count, dimension))\n",
    "    \n",
    "    knn_search_nd_wrapped = wrapper(knn_search_nd, S, target_points, k)\n",
    "    average = []\n",
    "    \n",
    "    for i in range(8):\n",
    "        average.append(timeit.timeit(knn_search_nd_wrapped, number=1000))\n",
    "        \n",
    "    time = sum(average)/len(average)\n",
    "    running_time_knn.append(time)\n"
   ]
  },
  {
   "cell_type": "code",
   "execution_count": 195,
   "metadata": {},
   "outputs": [
    {
     "data": {
      "image/png": "[encoded data removed]",
      "text/plain": [
       "<Figure size 432x288 with 1 Axes>"
      ]
     },
     "metadata": {
      "needs_background": "light"
     },
     "output_type": "display_data"
    }
   ],
   "source": [
    "plt.plot(dimensions, running_time_knn)\n",
    "plt.title(\"nD knn search with kd tree\")\n",
    "plt.ylabel(\"running time\")\n",
    "plt.xlabel(\"dimension\")\n",
    "plt.show()"
   ]
  },
  {
   "cell_type": "code",
   "execution_count": 198,
   "metadata": {},
   "outputs": [],
   "source": [
    "def range_search_nd(S, target_points, target_distance):\n",
    "    tree = spatial.KDTree(S)\n",
    "    result = tree.query_ball_point(x = target_points, r = target_distance)\n",
    "    \n",
    "target_count = 40\n",
    "target_distance = 5\n",
    "running_time_range = []\n",
    "\n",
    "for dimension in dimensions:\n",
    "    S = np.random.randint(100, size=(50, dimension))\n",
    "    target_points = np.random.randint(100, size=(target_count, dimension))\n",
    "    \n",
    "    range_search_nd_wrapped = wrapper(range_search_nd, S, target_points, target_distance)\n",
    "    average = []\n",
    "    \n",
    "    for i in range(8):\n",
    "        average.append(timeit.timeit(range_search_nd_wrapped, number=1000))\n",
    "    \n",
    "    time = sum(average)/len(average)\n",
    "    running_time_range.append(time)\n"
   ]
  },
  {
   "cell_type": "code",
   "execution_count": 200,
   "metadata": {},
   "outputs": [
    {
     "data": {
      "image/png": "[encoded data removed]",
      "text/plain": [
       "<Figure size 432x288 with 1 Axes>"
      ]
     },
     "metadata": {
      "needs_background": "light"
     },
     "output_type": "display_data"
    }
   ],
   "source": [
    "plt.plot(dimensions, running_time_range)\n",
    "plt.title(\"nD range search with kd tree\")\n",
    "plt.ylabel(\"running time\")\n",
    "plt.xlabel(\"dimension\")\n",
    "plt.show()"
   ]
  },
  {
   "cell_type": "code",
   "execution_count": null,
   "metadata": {},
   "outputs": [],
   "source": []
  }
 ],
 "metadata": {
  "kernelspec": {
   "display_name": "Python 2",
   "language": "python",
   "name": "python2"
  },
  "language_info": {
   "codemirror_mode": {
    "name": "ipython",
    "version": 2
   },
   "file_extension": ".py",
   "mimetype": "text/x-python",
   "name": "python",
   "nbconvert_exporter": "python",
   "pygments_lexer": "ipython2",
   "version": "2.7.16"
  }
 },
 "nbformat": 4,
 "nbformat_minor": 2
}
